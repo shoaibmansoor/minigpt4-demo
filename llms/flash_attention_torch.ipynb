{
 "cells": [
  {
   "cell_type": "markdown",
   "metadata": {},
   "source": [
    "## Flash attention in Pytorch\n",
    "\n",
    "<table align=\"left\">\n",
    "    <td>\n",
    "    <a target=\"_blank\" href=\"https://colab.research.google.com/github/thushv89/tutorials_deeplearninghero/blob/master/llms/flash_attention_torch.ipynb\"><img src=\"https://www.tensorflow.org/images/colab_logo_32px.png\"/>Run in Google Colab</a>\n",
    "    </td>\n",
    "</table>"
   ]
  },
  {
   "cell_type": "markdown",
   "metadata": {},
   "source": [
    "### Installing libraries"
   ]
  },
  {
   "cell_type": "code",
   "execution_count": 1,
   "metadata": {
    "colab": {
     "base_uri": "https://localhost:8080/"
    },
    "id": "kSg7gKFWAdkY",
    "outputId": "ddac91b4-3f6f-4fdd-e69f-7dc3b5a85388"
   },
   "outputs": [
    {
     "name": "stdout",
     "output_type": "stream",
     "text": [
      "Collecting transformers\n",
      "  Downloading transformers-4.30.2-py3-none-any.whl (7.2 MB)\n",
      "\u001b[2K     \u001b[90m━━━━━━━━━━━━━━━━━━━━━━━━━━━━━━━━━━━━━━━━\u001b[0m \u001b[32m7.2/7.2 MB\u001b[0m \u001b[31m60.5 MB/s\u001b[0m eta \u001b[36m0:00:00\u001b[0m\n",
      "\u001b[?25hCollecting nvidia-ml-py3\n",
      "  Downloading nvidia-ml-py3-7.352.0.tar.gz (19 kB)\n",
      "  Preparing metadata (setup.py) ... \u001b[?25l\u001b[?25hdone\n",
      "Collecting sentencepiece\n",
      "  Downloading sentencepiece-0.1.99-cp310-cp310-manylinux_2_17_x86_64.manylinux2014_x86_64.whl (1.3 MB)\n",
      "\u001b[2K     \u001b[90m━━━━━━━━━━━━━━━━━━━━━━━━━━━━━━━━━━━━━━━━\u001b[0m \u001b[32m1.3/1.3 MB\u001b[0m \u001b[31m76.9 MB/s\u001b[0m eta \u001b[36m0:00:00\u001b[0m\n",
      "\u001b[?25hRequirement already satisfied: filelock in /usr/local/lib/python3.10/dist-packages (from transformers) (3.12.2)\n",
      "Collecting huggingface-hub<1.0,>=0.14.1 (from transformers)\n",
      "  Downloading huggingface_hub-0.16.4-py3-none-any.whl (268 kB)\n",
      "\u001b[2K     \u001b[90m━━━━━━━━━━━━━━━━━━━━━━━━━━━━━━━━━━━━━━\u001b[0m \u001b[32m268.8/268.8 kB\u001b[0m \u001b[31m32.2 MB/s\u001b[0m eta \u001b[36m0:00:00\u001b[0m\n",
      "\u001b[?25hRequirement already satisfied: numpy>=1.17 in /usr/local/lib/python3.10/dist-packages (from transformers) (1.22.4)\n",
      "Requirement already satisfied: packaging>=20.0 in /usr/local/lib/python3.10/dist-packages (from transformers) (23.1)\n",
      "Requirement already satisfied: pyyaml>=5.1 in /usr/local/lib/python3.10/dist-packages (from transformers) (6.0)\n",
      "Requirement already satisfied: regex!=2019.12.17 in /usr/local/lib/python3.10/dist-packages (from transformers) (2022.10.31)\n",
      "Requirement already satisfied: requests in /usr/local/lib/python3.10/dist-packages (from transformers) (2.27.1)\n",
      "Collecting tokenizers!=0.11.3,<0.14,>=0.11.1 (from transformers)\n",
      "  Downloading tokenizers-0.13.3-cp310-cp310-manylinux_2_17_x86_64.manylinux2014_x86_64.whl (7.8 MB)\n",
      "\u001b[2K     \u001b[90m━━━━━━━━━━━━━━━━━━━━━━━━━━━━━━━━━━━━━━━━\u001b[0m \u001b[32m7.8/7.8 MB\u001b[0m \u001b[31m112.6 MB/s\u001b[0m eta \u001b[36m0:00:00\u001b[0m\n",
      "\u001b[?25hCollecting safetensors>=0.3.1 (from transformers)\n",
      "  Downloading safetensors-0.3.1-cp310-cp310-manylinux_2_17_x86_64.manylinux2014_x86_64.whl (1.3 MB)\n",
      "\u001b[2K     \u001b[90m━━━━━━━━━━━━━━━━━━━━━━━━━━━━━━━━━━━━━━━━\u001b[0m \u001b[32m1.3/1.3 MB\u001b[0m \u001b[31m84.4 MB/s\u001b[0m eta \u001b[36m0:00:00\u001b[0m\n",
      "\u001b[?25hRequirement already satisfied: tqdm>=4.27 in /usr/local/lib/python3.10/dist-packages (from transformers) (4.65.0)\n",
      "Requirement already satisfied: fsspec in /usr/local/lib/python3.10/dist-packages (from huggingface-hub<1.0,>=0.14.1->transformers) (2023.6.0)\n",
      "Requirement already satisfied: typing-extensions>=3.7.4.3 in /usr/local/lib/python3.10/dist-packages (from huggingface-hub<1.0,>=0.14.1->transformers) (4.7.1)\n",
      "Requirement already satisfied: urllib3<1.27,>=1.21.1 in /usr/local/lib/python3.10/dist-packages (from requests->transformers) (1.26.16)\n",
      "Requirement already satisfied: certifi>=2017.4.17 in /usr/local/lib/python3.10/dist-packages (from requests->transformers) (2023.5.7)\n",
      "Requirement already satisfied: charset-normalizer~=2.0.0 in /usr/local/lib/python3.10/dist-packages (from requests->transformers) (2.0.12)\n",
      "Requirement already satisfied: idna<4,>=2.5 in /usr/local/lib/python3.10/dist-packages (from requests->transformers) (3.4)\n",
      "Building wheels for collected packages: nvidia-ml-py3\n",
      "  Building wheel for nvidia-ml-py3 (setup.py) ... \u001b[?25l\u001b[?25hdone\n",
      "  Created wheel for nvidia-ml-py3: filename=nvidia_ml_py3-7.352.0-py3-none-any.whl size=19171 sha256=e943df887c5a512277fcd905672afc5857aeb3ca39ee998830116352079319a2\n",
      "  Stored in directory: /root/.cache/pip/wheels/5c/d8/c0/46899f8be7a75a2ffd197a23c8797700ea858b9b34819fbf9e\n",
      "Successfully built nvidia-ml-py3\n",
      "Installing collected packages: tokenizers, sentencepiece, safetensors, nvidia-ml-py3, huggingface-hub, transformers\n",
      "Successfully installed huggingface-hub-0.16.4 nvidia-ml-py3-7.352.0 safetensors-0.3.1 sentencepiece-0.1.99 tokenizers-0.13.3 transformers-4.30.2\n"
     ]
    }
   ],
   "source": [
    "!pip install transformers nvidia-ml-py3 sentencepiece"
   ]
  },
  {
   "cell_type": "code",
   "execution_count": 1,
   "metadata": {
    "colab": {
     "base_uri": "https://localhost:8080/"
    },
    "id": "VYh3r-ZHIafD",
    "outputId": "ac939d89-395b-4841-e60b-b895b8bcb1d7"
   },
   "outputs": [
    {
     "name": "stdout",
     "output_type": "stream",
     "text": [
      "Torch version: 2.0.1+cu118\n"
     ]
    }
   ],
   "source": [
    "import torch\n",
    "from time import perf_counter\n",
    "import pynvml\n",
    "import pandas as pd\n",
    "\n",
    "# Earliest version that has flash attention is 1.13\n",
    "print(f\"Torch version: {torch.__version__}\")"
   ]
  },
  {
   "cell_type": "markdown",
   "metadata": {},
   "source": [
    "### Loading data"
   ]
  },
  {
   "cell_type": "code",
   "execution_count": 2,
   "metadata": {
    "colab": {
     "base_uri": "https://localhost:8080/"
    },
    "id": "pZrYbom9CNx_",
    "outputId": "e61963f0-74ce-4db5-e169-d27bb64d0c7c"
   },
   "outputs": [
    {
     "name": "stdout",
     "output_type": "stream",
     "text": [
      "This text file has 138615 words\n"
     ]
    }
   ],
   "source": [
    "# Download some text from Project Gutenberg\n",
    "# e.g. https://www.gutenberg.org/files/98/98-0.txt\n",
    "if not os.exists(\"book.txt\"):\n",
    "    print(\n",
    "        \"\"\"Did you create a .txt with some text?\n",
    "        You can download a plain text book from Project Gutenberg\n",
    "        (e.g. https://www.gutenberg.org/files/98/98-0.txt) and upload to Colab\"\"\"\n",
    "    )\n",
    "\n",
    "with open(\"book.txt\", \"r\", encoding=\"utf-8\") as f:\n",
    "    text = f.read()\n",
    "\n",
    "print(f\"This text file has {len(text.split())} words\")"
   ]
  },
  {
   "cell_type": "markdown",
   "metadata": {},
   "source": [
    "### Hyperparameters and the simple Transformer"
   ]
  },
  {
   "cell_type": "code",
   "execution_count": 3,
   "metadata": {
    "id": "N9sUygOU-8pk"
   },
   "outputs": [],
   "source": [
    "n_heads = 32\n",
    "d_model = 512\n",
    "num_layers = 6\n",
    "batch_size = 32\n",
    "\n",
    "seq_length_range = [256, 512, 1024]\n",
    "\n",
    "# We are going to make the format [b, t, d] by default it's [t, b, d]\n",
    "# Setting data type to float16\n",
    "encoder_layer = torch.nn.TransformerEncoderLayer(d_model=d_model, nhead=n_heads, device=\"cuda\", batch_first=True, dtype=torch.float16)\n",
    "transformer_encoder = torch.nn.TransformerEncoder(encoder_layer, num_layers=num_layers)"
   ]
  },
  {
   "cell_type": "code",
   "execution_count": 4,
   "metadata": {
    "id": "baPDVpaOQ486"
   },
   "outputs": [],
   "source": [
    "def get_gpu_utilization():\n",
    "    \"\"\" Get the GPU utilization \"\"\"\n",
    "    pynvml.nvmlInit()\n",
    "    handle = pynvml.nvmlDeviceGetHandleByIndex(0)\n",
    "    info = pynvml.nvmlDeviceGetMemoryInfo(handle)\n",
    "    return info.used//1024**2\n",
    "\n",
    "def run_single_iteration(transformer_encoder, batch_size, seq_length, d_model):\n",
    "    \"\"\" Run a single iteration through the model \"\"\"\n",
    "    input_data = torch.rand((batch_size, seq_length, d_model), device=\"cuda\", dtype=torch.float16)\n",
    "    mask = torch.nn.Transformer.generate_square_subsequent_mask(\n",
    "        seq_length, device=\"cuda\"\n",
    "    ).half()\n",
    "\n",
    "    with torch.inference_mode():\n",
    "        t1 = perf_counter()\n",
    "        out = transformer_encoder(input_data, mask=mask, is_causal=True)\n",
    "        t2 = perf_counter()\n",
    "        memory_in_gb = get_gpu_utilization()\n",
    "\n",
    "    return {\"time\": t2-t1, \"memory\": memory_in_gb}\n",
    "\n",
    "def generate_profile_dataframe(time_seq, mem_seq, x_range):\n",
    "    return pd.DataFrame({\"time\": time_seq, \"memory\": mem_seq}, index=x_range)"
   ]
  },
  {
   "cell_type": "markdown",
   "metadata": {},
   "source": [
    "### Attention without Flash Attention"
   ]
  },
  {
   "cell_type": "code",
   "execution_count": 6,
   "metadata": {
    "colab": {
     "base_uri": "https://localhost:8080/"
    },
    "id": "RlYb0WlMkl6F",
    "outputId": "ba5dbac9-e245-4219-f7d0-087cde24f972"
   },
   "outputs": [
    {
     "name": "stdout",
     "output_type": "stream",
     "text": [
      "Using Flash Attention: False\n",
      "Sequence length: 256\n",
      "\tTime taken: 0.004582967999994025s\n",
      "\tGPU memory occupied: 907 MB\n",
      "Sequence length: 512\n",
      "\tTime taken: 0.00691587800000093s\n",
      "\tGPU memory occupied: 2443 MB\n",
      "Sequence length: 1024\n",
      "\tTime taken: 0.011827406000008978s\n",
      "\tGPU memory occupied: 8587 MB\n"
     ]
    }
   ],
   "source": [
    "memory_consumption = []\n",
    "time_taken = []\n",
    "\n",
    "# Since version 1.13\n",
    "with torch.backends.cuda.sdp_kernel(\n",
    "        enable_flash=False, enable_math=True, enable_mem_efficient=True\n",
    "):\n",
    "    #warm up step\n",
    "    res = run_single_iteration(transformer_encoder, batch_size, seq_length_range[0], d_model)\n",
    "\n",
    "    print(f\"Using Flash Attention: {torch.backends.cuda.flash_sdp_enabled()}\")\n",
    "    for t in seq_length_range:\n",
    "        # Important to syncronize before each run\n",
    "        # because cuda launch kernels asynchronously\n",
    "        torch.cuda.synchronize()\n",
    "\n",
    "        res = run_single_iteration(transformer_encoder, batch_size, t, d_model)\n",
    "        time_taken.append(res[\"time\"])\n",
    "        memory_consumption.append(res[\"memory\"])\n",
    "        print(f\"Sequence length: {t}\")\n",
    "        print(f\"\\tTime taken: {res['time']}s\")\n",
    "        print(f\"\\tGPU memory occupied: {res['memory']} MB\")\n",
    "\n",
    "profile_df = generate_profile_dataframe(time_taken, memory_consumption, seq_length_range)\n",
    "profile_df.to_parquet(\"no_flash_profile.parquet\")"
   ]
  },
  {
   "cell_type": "markdown",
   "metadata": {},
   "source": [
    "### Attention with Flash Attention"
   ]
  },
  {
   "cell_type": "code",
   "execution_count": 5,
   "metadata": {
    "colab": {
     "base_uri": "https://localhost:8080/"
    },
    "id": "4fHOSR-R-WFd",
    "outputId": "6733d7b9-93fd-4e55-8151-32aca5b83eb8"
   },
   "outputs": [
    {
     "name": "stdout",
     "output_type": "stream",
     "text": [
      "Using Flash Attention: True\n",
      "Sequence length: 256\n",
      "\tTime taken: 0.003883336999990661s\n",
      "\tGPU memory occupied: 587 MB\n",
      "Sequence length: 512\n",
      "\tTime taken: 0.005021150000004582s\n",
      "\tGPU memory occupied: 811 MB\n",
      "Sequence length: 1024\n",
      "\tTime taken: 0.005695422999991706s\n",
      "\tGPU memory occupied: 1259 MB\n"
     ]
    }
   ],
   "source": [
    "# IMPORTANT NOTES ON FLASH ATTENTION\n",
    "# * Make sure you restart the runtime - to release GPU memory\n",
    "# * FlashAttention currently supports:\n",
    "#   * Turing, Ampere, Ada, or Hopper GPUs (e.g., H100, A100, RTX 3090, T4, RTX 2080).\n",
    "#   * Supports fp16 and bf16 (bf16 requires Ampere, Ada, or Hopper GPUs).\n",
    "#   * Head dimension needs to be multiples of 8, up to 128 (e.g., 8, 16, 24, ..., 128). Head dim > 64 backward requires A100 or H100.\n",
    "flash_memory_consumption = []\n",
    "flash_time_taken = []\n",
    "\n",
    "with torch.backends.cuda.sdp_kernel(\n",
    "    enable_flash=True, enable_math=False, enable_mem_efficient=False\n",
    "):\n",
    "    #warm up step\n",
    "    res = run_single_iteration(transformer_encoder, batch_size, seq_length_range[0], d_model)\n",
    "\n",
    "    print(f\"Using Flash Attention: {torch.backends.cuda.flash_sdp_enabled()}\")\n",
    "\n",
    "    for t in seq_length_range:\n",
    "        torch.cuda.synchronize()\n",
    "\n",
    "        res = run_single_iteration(transformer_encoder, batch_size, t, d_model)\n",
    "        flash_time_taken.append(res[\"time\"])\n",
    "        flash_memory_consumption.append(res[\"memory\"])\n",
    "        print(f\"Sequence length: {t}\")\n",
    "        print(f\"\\tTime taken: {res['time']}s\")\n",
    "        print(f\"\\tGPU memory occupied: {res['memory']} MB\")\n",
    "\n",
    "profile_df = generate_profile_dataframe(flash_time_taken, flash_memory_consumption, seq_length_range)\n",
    "profile_df.to_parquet(\"flash_profile.parquet\")"
   ]
  },
  {
   "cell_type": "code",
   "execution_count": 6,
   "metadata": {
    "colab": {
     "base_uri": "https://localhost:8080/",
     "height": 175
    },
    "id": "7Snc8jyR99mN",
    "outputId": "2131ad0c-6b9a-4440-9970-03abcadf3ff4"
   },
   "outputs": [
    {
     "data": {
      "text/html": [
       "\n",
       "\n",
       "  <div id=\"df-24fce82f-70b9-4acb-a1a3-cf5e208f8ed3\">\n",
       "    <div class=\"colab-df-container\">\n",
       "      <div>\n",
       "<style scoped>\n",
       "    .dataframe tbody tr th:only-of-type {\n",
       "        vertical-align: middle;\n",
       "    }\n",
       "\n",
       "    .dataframe tbody tr th {\n",
       "        vertical-align: top;\n",
       "    }\n",
       "\n",
       "    .dataframe thead tr th {\n",
       "        text-align: left;\n",
       "    }\n",
       "</style>\n",
       "<table border=\"1\" class=\"dataframe\">\n",
       "  <thead>\n",
       "    <tr>\n",
       "      <th></th>\n",
       "      <th>time</th>\n",
       "      <th>memory</th>\n",
       "      <th>time</th>\n",
       "      <th>memory</th>\n",
       "    </tr>\n",
       "    <tr>\n",
       "      <th></th>\n",
       "      <th>no_flash</th>\n",
       "      <th>no_flash</th>\n",
       "      <th>flash</th>\n",
       "      <th>flash</th>\n",
       "    </tr>\n",
       "  </thead>\n",
       "  <tbody>\n",
       "    <tr>\n",
       "      <th>256</th>\n",
       "      <td>0.004583</td>\n",
       "      <td>907</td>\n",
       "      <td>0.003883</td>\n",
       "      <td>587</td>\n",
       "    </tr>\n",
       "    <tr>\n",
       "      <th>512</th>\n",
       "      <td>0.006916</td>\n",
       "      <td>2443</td>\n",
       "      <td>0.005021</td>\n",
       "      <td>811</td>\n",
       "    </tr>\n",
       "    <tr>\n",
       "      <th>1024</th>\n",
       "      <td>0.011827</td>\n",
       "      <td>8587</td>\n",
       "      <td>0.005695</td>\n",
       "      <td>1259</td>\n",
       "    </tr>\n",
       "  </tbody>\n",
       "</table>\n",
       "</div>\n",
       "      <button class=\"colab-df-convert\" onclick=\"convertToInteractive('df-24fce82f-70b9-4acb-a1a3-cf5e208f8ed3')\"\n",
       "              title=\"Convert this dataframe to an interactive table.\"\n",
       "              style=\"display:none;\">\n",
       "\n",
       "  <svg xmlns=\"http://www.w3.org/2000/svg\" height=\"24px\"viewBox=\"0 0 24 24\"\n",
       "       width=\"24px\">\n",
       "    <path d=\"M0 0h24v24H0V0z\" fill=\"none\"/>\n",
       "    <path d=\"M18.56 5.44l.94 2.06.94-2.06 2.06-.94-2.06-.94-.94-2.06-.94 2.06-2.06.94zm-11 1L8.5 8.5l.94-2.06 2.06-.94-2.06-.94L8.5 2.5l-.94 2.06-2.06.94zm10 10l.94 2.06.94-2.06 2.06-.94-2.06-.94-.94-2.06-.94 2.06-2.06.94z\"/><path d=\"M17.41 7.96l-1.37-1.37c-.4-.4-.92-.59-1.43-.59-.52 0-1.04.2-1.43.59L10.3 9.45l-7.72 7.72c-.78.78-.78 2.05 0 2.83L4 21.41c.39.39.9.59 1.41.59.51 0 1.02-.2 1.41-.59l7.78-7.78 2.81-2.81c.8-.78.8-2.07 0-2.86zM5.41 20L4 18.59l7.72-7.72 1.47 1.35L5.41 20z\"/>\n",
       "  </svg>\n",
       "      </button>\n",
       "\n",
       "\n",
       "\n",
       "    <div id=\"df-86e6465f-0760-4e9d-a7ee-137b598f8cd8\">\n",
       "      <button class=\"colab-df-quickchart\" onclick=\"quickchart('df-86e6465f-0760-4e9d-a7ee-137b598f8cd8')\"\n",
       "              title=\"Suggest charts.\"\n",
       "              style=\"display:none;\">\n",
       "\n",
       "<svg xmlns=\"http://www.w3.org/2000/svg\" height=\"24px\"viewBox=\"0 0 24 24\"\n",
       "     width=\"24px\">\n",
       "    <g>\n",
       "        <path d=\"M19 3H5c-1.1 0-2 .9-2 2v14c0 1.1.9 2 2 2h14c1.1 0 2-.9 2-2V5c0-1.1-.9-2-2-2zM9 17H7v-7h2v7zm4 0h-2V7h2v10zm4 0h-2v-4h2v4z\"/>\n",
       "    </g>\n",
       "</svg>\n",
       "      </button>\n",
       "    </div>\n",
       "\n",
       "<style>\n",
       "  .colab-df-quickchart {\n",
       "    background-color: #E8F0FE;\n",
       "    border: none;\n",
       "    border-radius: 50%;\n",
       "    cursor: pointer;\n",
       "    display: none;\n",
       "    fill: #1967D2;\n",
       "    height: 32px;\n",
       "    padding: 0 0 0 0;\n",
       "    width: 32px;\n",
       "  }\n",
       "\n",
       "  .colab-df-quickchart:hover {\n",
       "    background-color: #E2EBFA;\n",
       "    box-shadow: 0px 1px 2px rgba(60, 64, 67, 0.3), 0px 1px 3px 1px rgba(60, 64, 67, 0.15);\n",
       "    fill: #174EA6;\n",
       "  }\n",
       "\n",
       "  [theme=dark] .colab-df-quickchart {\n",
       "    background-color: #3B4455;\n",
       "    fill: #D2E3FC;\n",
       "  }\n",
       "\n",
       "  [theme=dark] .colab-df-quickchart:hover {\n",
       "    background-color: #434B5C;\n",
       "    box-shadow: 0px 1px 3px 1px rgba(0, 0, 0, 0.15);\n",
       "    filter: drop-shadow(0px 1px 2px rgba(0, 0, 0, 0.3));\n",
       "    fill: #FFFFFF;\n",
       "  }\n",
       "</style>\n",
       "\n",
       "    <script>\n",
       "      async function quickchart(key) {\n",
       "        const containerElement = document.querySelector('#' + key);\n",
       "        const charts = await google.colab.kernel.invokeFunction(\n",
       "            'suggestCharts', [key], {});\n",
       "      }\n",
       "    </script>\n",
       "\n",
       "      <script>\n",
       "\n",
       "function displayQuickchartButton(domScope) {\n",
       "  let quickchartButtonEl =\n",
       "    domScope.querySelector('#df-86e6465f-0760-4e9d-a7ee-137b598f8cd8 button.colab-df-quickchart');\n",
       "  quickchartButtonEl.style.display =\n",
       "    google.colab.kernel.accessAllowed ? 'block' : 'none';\n",
       "}\n",
       "\n",
       "        displayQuickchartButton(document);\n",
       "      </script>\n",
       "      <style>\n",
       "    .colab-df-container {\n",
       "      display:flex;\n",
       "      flex-wrap:wrap;\n",
       "      gap: 12px;\n",
       "    }\n",
       "\n",
       "    .colab-df-convert {\n",
       "      background-color: #E8F0FE;\n",
       "      border: none;\n",
       "      border-radius: 50%;\n",
       "      cursor: pointer;\n",
       "      display: none;\n",
       "      fill: #1967D2;\n",
       "      height: 32px;\n",
       "      padding: 0 0 0 0;\n",
       "      width: 32px;\n",
       "    }\n",
       "\n",
       "    .colab-df-convert:hover {\n",
       "      background-color: #E2EBFA;\n",
       "      box-shadow: 0px 1px 2px rgba(60, 64, 67, 0.3), 0px 1px 3px 1px rgba(60, 64, 67, 0.15);\n",
       "      fill: #174EA6;\n",
       "    }\n",
       "\n",
       "    [theme=dark] .colab-df-convert {\n",
       "      background-color: #3B4455;\n",
       "      fill: #D2E3FC;\n",
       "    }\n",
       "\n",
       "    [theme=dark] .colab-df-convert:hover {\n",
       "      background-color: #434B5C;\n",
       "      box-shadow: 0px 1px 3px 1px rgba(0, 0, 0, 0.15);\n",
       "      filter: drop-shadow(0px 1px 2px rgba(0, 0, 0, 0.3));\n",
       "      fill: #FFFFFF;\n",
       "    }\n",
       "  </style>\n",
       "\n",
       "      <script>\n",
       "        const buttonEl =\n",
       "          document.querySelector('#df-24fce82f-70b9-4acb-a1a3-cf5e208f8ed3 button.colab-df-convert');\n",
       "        buttonEl.style.display =\n",
       "          google.colab.kernel.accessAllowed ? 'block' : 'none';\n",
       "\n",
       "        async function convertToInteractive(key) {\n",
       "          const element = document.querySelector('#df-24fce82f-70b9-4acb-a1a3-cf5e208f8ed3');\n",
       "          const dataTable =\n",
       "            await google.colab.kernel.invokeFunction('convertToInteractive',\n",
       "                                                     [key], {});\n",
       "          if (!dataTable) return;\n",
       "\n",
       "          const docLinkHtml = 'Like what you see? Visit the ' +\n",
       "            '<a target=\"_blank\" href=https://colab.research.google.com/notebooks/data_table.ipynb>data table notebook</a>'\n",
       "            + ' to learn more about interactive tables.';\n",
       "          element.innerHTML = '';\n",
       "          dataTable['output_type'] = 'display_data';\n",
       "          await google.colab.output.renderOutput(dataTable, element);\n",
       "          const docLink = document.createElement('div');\n",
       "          docLink.innerHTML = docLinkHtml;\n",
       "          element.appendChild(docLink);\n",
       "        }\n",
       "      </script>\n",
       "    </div>\n",
       "  </div>\n"
      ],
      "text/plain": [
       "          time   memory      time memory\n",
       "      no_flash no_flash     flash  flash\n",
       "256   0.004583      907  0.003883    587\n",
       "512   0.006916     2443  0.005021    811\n",
       "1024  0.011827     8587  0.005695   1259"
      ]
     },
     "execution_count": 6,
     "metadata": {},
     "output_type": "execute_result"
    }
   ],
   "source": [
    "df_1 = pd.read_parquet(\"no_flash_profile.parquet\")\n",
    "df_1.columns = pd.MultiIndex.from_tuples([(c, \"no_flash\") for c in df_1.columns])\n",
    "df_2 = pd.read_parquet(\"flash_profile.parquet\")\n",
    "df_2.columns = pd.MultiIndex.from_tuples([(c, \"flash\") for c in df_2.columns])\n",
    "df = pd.concat([df_1, df_2], axis=1)\n",
    "df.head()"
   ]
  },
  {
   "cell_type": "code",
   "execution_count": 7,
   "metadata": {
    "colab": {
     "base_uri": "https://localhost:8080/",
     "height": 489
    },
    "id": "UofupbNMAouX",
    "outputId": "3c6104f2-f817-473a-c329-9f77373dd90c"
   },
   "outputs": [
    {
     "data": {
      "text/plain": [
       "<Axes: xlabel='Time Steps', ylabel='Time (s)'>"
      ]
     },
     "execution_count": 7,
     "metadata": {},
     "output_type": "execute_result"
    },
    {
     "data": {
      "image/png": "[encoded data removed]",
      "text/plain": [
       "<Figure size 640x480 with 1 Axes>"
      ]
     },
     "metadata": {},
     "output_type": "display_data"
    }
   ],
   "source": [
    "# T4 SRAM is smaller than newer GPUs, so less speedup gains\n",
    "df[\"time\"].plot.bar(xlabel=\"Time Steps\", ylabel=\"Time (s)\")"
   ]
  },
  {
   "cell_type": "code",
   "execution_count": 8,
   "metadata": {
    "colab": {
     "base_uri": "https://localhost:8080/",
     "height": 489
    },
    "id": "qWy1S99JUcVG",
    "outputId": "221e3518-c500-4e19-acd4-e3c47872ab4d"
   },
   "outputs": [
    {
     "data": {
      "text/plain": [
       "<Axes: xlabel='Time Steps', ylabel='Memory (GB)'>"
      ]
     },
     "execution_count": 8,
     "metadata": {},
     "output_type": "execute_result"
    },
    {
     "data": {
      "image/png": "[encoded data removed]",
      "text/plain": [
       "<Figure size 640x480 with 1 Axes>"
      ]
     },
     "metadata": {},
     "output_type": "display_data"
    }
   ],
   "source": [
    "# Extrapolation gives you can fit 12.5K long sequence with batch size of 32 \n",
    "# or a 400K long sequence with a batch size of 1 on this GPU\n",
    "# But in practice, you're limited to a certain extent on the length of the \n",
    "# sequences that you can fit during training. This is a lot shorter as there's\n",
    "# more computations (e.g. backward pass) during training and you need a larger\n",
    "# batch size.\n",
    "df[\"memory\"].plot.bar(xlabel=\"Time Steps\", ylabel=\"Memory (GB)\")"
   ]
  }
 ],
 "metadata": {
  "accelerator": "GPU",
  "colab": {
   "gpuType": "T4",
   "provenance": []
  },
  "kernelspec": {
   "display_name": "Python 3 (ipykernel)",
   "language": "python",
   "name": "python3"
  },
  "language_info": {
   "codemirror_mode": {
    "name": "ipython",
    "version": 3
   },
   "file_extension": ".py",
   "mimetype": "text/x-python",
   "name": "python",
   "nbconvert_exporter": "python",
   "pygments_lexer": "ipython3",
   "version": "3.9.15"
  }
 },
 "nbformat": 4,
 "nbformat_minor": 1
}
